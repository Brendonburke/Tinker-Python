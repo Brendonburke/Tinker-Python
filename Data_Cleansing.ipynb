{
 "cells": [
  {
   "cell_type": "code",
   "execution_count": 18,
   "metadata": {
    "collapsed": true
   },
   "outputs": [],
   "source": [
    "import os\n",
    "import sys\n",
    "import datetime\n",
    "\n",
    "import pandas as pd\n",
    "import numpy as np\n",
    "\n",
    "# 28 Jupyter Notebook tips, tricks and shortcuts\n",
    "# https://www.dataquest.io/blog/jupyter-notebook-tips-tricks-shortcuts/\n",
    "\n",
    "# Jupyter Python Notebook Keyboard Shortcuts and Text Snippets for Beginners\n",
    "# http://maxmelnick.com/2016/04/19/python-beginner-tips-and-tricks.html"
   ]
  },
  {
   "cell_type": "code",
   "execution_count": 5,
   "metadata": {
    "collapsed": false
   },
   "outputs": [
    {
     "name": "stdout",
     "output_type": "stream",
     "text": [
      "USING PANDAS LIBRARY FOR DATA MANIPULATION AND CLEANSING:\n",
      "\n"
     ]
    }
   ],
   "source": [
    "print(\"USING PANDAS LIBRARY FOR DATA MANIPULATION AND CLEANSING:\")\n",
    "print()"
   ]
  },
  {
   "cell_type": "code",
   "execution_count": 17,
   "metadata": {
    "collapsed": false
   },
   "outputs": [
    {
     "name": "stdout",
     "output_type": "stream",
     "text": [
      "PANDAS DATA FRAME FOR INPUT FILE :\n",
      "   one  two  three   four   five       six    seven eight\n",
      "0  NaN  2.1    3.1    bar   True       NaN  £200.45   BMC\n",
      "1  NaN  NaN    3.2    NaN  False  1/1/2017  £650.38   ACS\n",
      "2  3.0  2.3    3.3   club   True  2/1/2017   £85.07   ACS\n",
      "3  5.0  2.4    NaN    bar    NaN  3/1/2017      NaN   BPS\n",
      "4  NaN  2.5    3.5    bar  False       NaN  £230.22   BMC\n",
      "5  6.0  NaN    3.3   club   True  2/1/2017  £650.96   CJS\n",
      "6  2.0  2.5    NaN  house    NaN  4/1/2017      NaN    FM\n",
      "7  3.0  2.3    3.3   club   True  2/1/2017   £85.07   ACS\n",
      "\n"
     ]
    }
   ],
   "source": [
    "df_input_file = pd.read_csv(filepath_or_buffer=r\"C:\\Users\\rdewolf\\desktop\\input_data.csv\", sep=\",\", encoding=\"latin1\")    \n",
    "print(\"PANDAS DATA FRAME FOR INPUT FILE :\")\n",
    "print(df_input_file)\n",
    "print()"
   ]
  },
  {
   "cell_type": "code",
   "execution_count": 16,
   "metadata": {
    "collapsed": false
   },
   "outputs": [
    {
     "name": "stdout",
     "output_type": "stream",
     "text": [
      "NUMBER OF ROWS AND COLUMNS:\n",
      "(8, 8)\n",
      "\n"
     ]
    }
   ],
   "source": [
    "result = df_input_file.shape\n",
    "print(\"NUMBER OF ROWS AND COLUMNS:\")\n",
    "print(result)\n",
    "print()"
   ]
  },
  {
   "cell_type": "code",
   "execution_count": 15,
   "metadata": {
    "collapsed": false
   },
   "outputs": [
    {
     "name": "stdout",
     "output_type": "stream",
     "text": [
      "FILE INFORMATION:\n",
      "<class 'pandas.core.frame.DataFrame'>\n",
      "RangeIndex: 8 entries, 0 to 7\n",
      "Data columns (total 8 columns):\n",
      "one      5 non-null float64\n",
      "two      6 non-null float64\n",
      "three    6 non-null float64\n",
      "four     7 non-null object\n",
      "five     6 non-null object\n",
      "six      6 non-null object\n",
      "seven    6 non-null object\n",
      "eight    8 non-null object\n",
      "dtypes: float64(3), object(5)\n",
      "memory usage: 592.0+ bytes\n",
      "\n"
     ]
    }
   ],
   "source": [
    "print(\"FILE INFORMATION:\")\n",
    "df_input_file.info()\n",
    "print()"
   ]
  },
  {
   "cell_type": "code",
   "execution_count": 19,
   "metadata": {
    "collapsed": false
   },
   "outputs": [
    {
     "name": "stdout",
     "output_type": "stream",
     "text": [
      "SUMMARY DESCRIPTIVE STATS FOR NUMERICAL COLUMNS:\n",
      "            one       two     three\n",
      "count  5.000000  6.000000  6.000000\n",
      "mean   3.800000  2.350000  3.283333\n",
      "std    1.643168  0.151658  0.132916\n",
      "min    2.000000  2.100000  3.100000\n",
      "25%    3.000000  2.300000  3.225000\n",
      "50%    3.000000  2.350000  3.300000\n",
      "75%    5.000000  2.475000  3.300000\n",
      "max    6.000000  2.500000  3.500000\n",
      "\n"
     ]
    }
   ],
   "source": [
    "result = df_input_file.describe()\n",
    "print(\"SUMMARY DESCRIPTIVE STATS FOR NUMERICAL COLUMNS:\")\n",
    "print(result)\n",
    "print()"
   ]
  },
  {
   "cell_type": "code",
   "execution_count": 20,
   "metadata": {
    "collapsed": false
   },
   "outputs": [
    {
     "name": "stdout",
     "output_type": "stream",
     "text": [
      "FREQUENCY DISTRIBUTION FOR CATEGORICAL COLUMN FOUR:\n",
      "bar      3\n",
      "club     3\n",
      "house    1\n",
      "Name: four, dtype: int64\n",
      "\n"
     ]
    }
   ],
   "source": [
    "result = df_input_file[\"four\"].value_counts()\n",
    "print(\"FREQUENCY DISTRIBUTION FOR CATEGORICAL COLUMN FOUR:\")\n",
    "print(result)\n",
    "print()"
   ]
  },
  {
   "cell_type": "code",
   "execution_count": 21,
   "metadata": {
    "collapsed": false
   },
   "outputs": [
    {
     "name": "stdout",
     "output_type": "stream",
     "text": [
      "FREQUENCY DISTRIBUTION FOR CATEGORICAL COLUMN EIGHT:\n",
      "ACS    3\n",
      "BMC    2\n",
      "FM     1\n",
      "CJS    1\n",
      "BPS    1\n",
      "Name: eight, dtype: int64\n",
      "\n"
     ]
    }
   ],
   "source": [
    "result = df_input_file[\"eight\"].value_counts()\n",
    "print(\"FREQUENCY DISTRIBUTION FOR CATEGORICAL COLUMN EIGHT:\")\n",
    "print(result)\n",
    "print()"
   ]
  },
  {
   "cell_type": "code",
   "execution_count": 22,
   "metadata": {
    "collapsed": false
   },
   "outputs": [
    {
     "name": "stdout",
     "output_type": "stream",
     "text": [
      "MISSING VALUES (NAN) BY COLUMNS:\n",
      "one      3\n",
      "two      2\n",
      "three    2\n",
      "four     1\n",
      "five     2\n",
      "six      2\n",
      "seven    2\n",
      "eight    0\n",
      "dtype: int64\n",
      "\n"
     ]
    }
   ],
   "source": [
    "result = df_input_file.apply(lambda x: sum(x.isnull()), axis=0) \n",
    "print(\"MISSING VALUES (NAN) BY COLUMNS:\")\n",
    "print(result)\n",
    "print()"
   ]
  },
  {
   "cell_type": "code",
   "execution_count": 23,
   "metadata": {
    "collapsed": false
   },
   "outputs": [
    {
     "name": "stdout",
     "output_type": "stream",
     "text": [
      "DUPLICATED ROWS:\n",
      "0    False\n",
      "1    False\n",
      "2    False\n",
      "3    False\n",
      "4    False\n",
      "5    False\n",
      "6    False\n",
      "7     True\n",
      "dtype: bool\n",
      "\n"
     ]
    }
   ],
   "source": [
    "result = df_input_file.duplicated()\n",
    "print(\"DUPLICATED ROWS:\")\n",
    "print(result)       \n",
    "print()"
   ]
  },
  {
   "cell_type": "code",
   "execution_count": 24,
   "metadata": {
    "collapsed": false
   },
   "outputs": [
    {
     "name": "stdout",
     "output_type": "stream",
     "text": [
      "DROP DUPLICATED ROWS AND KEEP THE FIRST:\n",
      "   one  two  three   four   five       six    seven eight\n",
      "0  NaN  2.1    3.1    bar   True       NaN  £200.45   BMC\n",
      "1  NaN  NaN    3.2    NaN  False  1/1/2017  £650.38   ACS\n",
      "2  3.0  2.3    3.3   club   True  2/1/2017   £85.07   ACS\n",
      "3  5.0  2.4    NaN    bar    NaN  3/1/2017      NaN   BPS\n",
      "4  NaN  2.5    3.5    bar  False       NaN  £230.22   BMC\n",
      "5  6.0  NaN    3.3   club   True  2/1/2017  £650.96   CJS\n",
      "6  2.0  2.5    NaN  house    NaN  4/1/2017      NaN    FM\n",
      "\n"
     ]
    }
   ],
   "source": [
    "df_input_file = df_input_file.drop_duplicates(keep=\"first\")\n",
    "print(\"DROP DUPLICATED ROWS AND KEEP THE FIRST:\")\n",
    "print(df_input_file)       \n",
    "print()"
   ]
  },
  {
   "cell_type": "code",
   "execution_count": 25,
   "metadata": {
    "collapsed": false
   },
   "outputs": [
    {
     "name": "stdout",
     "output_type": "stream",
     "text": [
      "REPLACE NAN VALUES WITH THE MEAN VALUE IN COLUMNS ONE AND TWO:\n",
      "   one   two  three   four   five       six    seven eight\n",
      "0  4.0  2.10    3.1    bar   True       NaN  £200.45   BMC\n",
      "1  4.0  2.36    3.2    NaN  False  1/1/2017  £650.38   ACS\n",
      "2  3.0  2.30    3.3   club   True  2/1/2017   £85.07   ACS\n",
      "3  5.0  2.40    NaN    bar    NaN  3/1/2017      NaN   BPS\n",
      "4  4.0  2.50    3.5    bar  False       NaN  £230.22   BMC\n",
      "5  6.0  2.36    3.3   club   True  2/1/2017  £650.96   CJS\n",
      "6  2.0  2.50    NaN  house    NaN  4/1/2017      NaN    FM\n",
      "\n"
     ]
    }
   ],
   "source": [
    "df_input_file = df_input_file.fillna(df_input_file.mean()[\"one\":\"two\"], inplace=True)\n",
    "print(\"REPLACE NAN VALUES WITH THE MEAN VALUE IN COLUMNS ONE AND TWO:\")\n",
    "print(df_input_file)       \n",
    "print()"
   ]
  },
  {
   "cell_type": "code",
   "execution_count": 26,
   "metadata": {
    "collapsed": false
   },
   "outputs": [
    {
     "name": "stdout",
     "output_type": "stream",
     "text": [
      "REPLACE NAN VALUES WITH THE MEDIAN VALUE IN COLUMN THREE:\n",
      "   one   two  three   four   five       six    seven eight\n",
      "0  4.0  2.10    3.1    bar   True       NaN  £200.45   BMC\n",
      "1  4.0  2.36    3.2    NaN  False  1/1/2017  £650.38   ACS\n",
      "2  3.0  2.30    3.3   club   True  2/1/2017   £85.07   ACS\n",
      "3  5.0  2.40    3.3    bar    NaN  3/1/2017      NaN   BPS\n",
      "4  4.0  2.50    3.5    bar  False       NaN  £230.22   BMC\n",
      "5  6.0  2.36    3.3   club   True  2/1/2017  £650.96   CJS\n",
      "6  2.0  2.50    3.3  house    NaN  4/1/2017      NaN    FM\n",
      "\n"
     ]
    }
   ],
   "source": [
    "df_input_file = df_input_file.fillna(df_input_file.median()[:\"three\"], inplace=True)\n",
    "print(\"REPLACE NAN VALUES WITH THE MEDIAN VALUE IN COLUMN THREE:\")\n",
    "print(df_input_file)       \n",
    "print()"
   ]
  },
  {
   "cell_type": "code",
   "execution_count": null,
   "metadata": {
    "collapsed": true
   },
   "outputs": [],
   "source": [
    "df_input_file[\"four\"] = df_input_file[\"four\"].fillna(\"club\")    \n",
    "print(\"REPLACE NAN VALUES WITH THE 'CLUB' STRING IN COLUMN FOUR:\")\n",
    "print(df_input_file)       \n",
    "print()    "
   ]
  },
  {
   "cell_type": "code",
   "execution_count": 31,
   "metadata": {
    "collapsed": false
   },
   "outputs": [
    {
     "name": "stdout",
     "output_type": "stream",
     "text": [
      "PRINT THE DATA FRAME IN A TABLE:\n"
     ]
    },
    {
     "data": {
      "text/html": [
       "<div>\n",
       "<style>\n",
       "    .dataframe thead tr:only-child th {\n",
       "        text-align: right;\n",
       "    }\n",
       "\n",
       "    .dataframe thead th {\n",
       "        text-align: left;\n",
       "    }\n",
       "\n",
       "    .dataframe tbody tr th {\n",
       "        vertical-align: top;\n",
       "    }\n",
       "</style>\n",
       "<table border=\"1\" class=\"dataframe\">\n",
       "  <thead>\n",
       "    <tr style=\"text-align: right;\">\n",
       "      <th></th>\n",
       "      <th>one</th>\n",
       "      <th>two</th>\n",
       "      <th>three</th>\n",
       "      <th>four</th>\n",
       "      <th>five</th>\n",
       "      <th>six</th>\n",
       "      <th>seven</th>\n",
       "      <th>eight</th>\n",
       "    </tr>\n",
       "  </thead>\n",
       "  <tbody>\n",
       "    <tr>\n",
       "      <th>0</th>\n",
       "      <td>4.0</td>\n",
       "      <td>2.10</td>\n",
       "      <td>3.1</td>\n",
       "      <td>bar</td>\n",
       "      <td>True</td>\n",
       "      <td>NaN</td>\n",
       "      <td>£200.45</td>\n",
       "      <td>BMC</td>\n",
       "    </tr>\n",
       "    <tr>\n",
       "      <th>1</th>\n",
       "      <td>4.0</td>\n",
       "      <td>2.36</td>\n",
       "      <td>3.2</td>\n",
       "      <td>NaN</td>\n",
       "      <td>False</td>\n",
       "      <td>1/1/2017</td>\n",
       "      <td>£650.38</td>\n",
       "      <td>ACS</td>\n",
       "    </tr>\n",
       "    <tr>\n",
       "      <th>2</th>\n",
       "      <td>3.0</td>\n",
       "      <td>2.30</td>\n",
       "      <td>3.3</td>\n",
       "      <td>club</td>\n",
       "      <td>True</td>\n",
       "      <td>2/1/2017</td>\n",
       "      <td>£85.07</td>\n",
       "      <td>ACS</td>\n",
       "    </tr>\n",
       "    <tr>\n",
       "      <th>3</th>\n",
       "      <td>5.0</td>\n",
       "      <td>2.40</td>\n",
       "      <td>3.3</td>\n",
       "      <td>bar</td>\n",
       "      <td>NaN</td>\n",
       "      <td>3/1/2017</td>\n",
       "      <td>NaN</td>\n",
       "      <td>BPS</td>\n",
       "    </tr>\n",
       "    <tr>\n",
       "      <th>4</th>\n",
       "      <td>4.0</td>\n",
       "      <td>2.50</td>\n",
       "      <td>3.5</td>\n",
       "      <td>bar</td>\n",
       "      <td>False</td>\n",
       "      <td>NaN</td>\n",
       "      <td>£230.22</td>\n",
       "      <td>BMC</td>\n",
       "    </tr>\n",
       "    <tr>\n",
       "      <th>5</th>\n",
       "      <td>6.0</td>\n",
       "      <td>2.36</td>\n",
       "      <td>3.3</td>\n",
       "      <td>club</td>\n",
       "      <td>True</td>\n",
       "      <td>2/1/2017</td>\n",
       "      <td>£650.96</td>\n",
       "      <td>CJS</td>\n",
       "    </tr>\n",
       "    <tr>\n",
       "      <th>6</th>\n",
       "      <td>2.0</td>\n",
       "      <td>2.50</td>\n",
       "      <td>3.3</td>\n",
       "      <td>house</td>\n",
       "      <td>NaN</td>\n",
       "      <td>4/1/2017</td>\n",
       "      <td>NaN</td>\n",
       "      <td>FM</td>\n",
       "    </tr>\n",
       "  </tbody>\n",
       "</table>\n",
       "</div>"
      ],
      "text/plain": [
       "   one   two  three   four   five       six    seven eight\n",
       "0  4.0  2.10    3.1    bar   True       NaN  £200.45   BMC\n",
       "1  4.0  2.36    3.2    NaN  False  1/1/2017  £650.38   ACS\n",
       "2  3.0  2.30    3.3   club   True  2/1/2017   £85.07   ACS\n",
       "3  5.0  2.40    3.3    bar    NaN  3/1/2017      NaN   BPS\n",
       "4  4.0  2.50    3.5    bar  False       NaN  £230.22   BMC\n",
       "5  6.0  2.36    3.3   club   True  2/1/2017  £650.96   CJS\n",
       "6  2.0  2.50    3.3  house    NaN  4/1/2017      NaN    FM"
      ]
     },
     "execution_count": 31,
     "metadata": {},
     "output_type": "execute_result"
    }
   ],
   "source": [
    "print(\"PRINT THE DATA FRAME IN A TABLE:\")\n",
    "df_input_file.head(10)"
   ]
  },
  {
   "cell_type": "code",
   "execution_count": 32,
   "metadata": {
    "collapsed": false
   },
   "outputs": [
    {
     "name": "stdout",
     "output_type": "stream",
     "text": [
      "REPLACE NAN VALUES WITH THE TRUE BOOLEAN IN COLUMN FIVE:\n",
      "   one   two  three   four   five       six    seven eight\n",
      "0  4.0  2.10    3.1    bar   True       NaN  £200.45   BMC\n",
      "1  4.0  2.36    3.2    NaN  False  1/1/2017  £650.38   ACS\n",
      "2  3.0  2.30    3.3   club   True  2/1/2017   £85.07   ACS\n",
      "3  5.0  2.40    3.3    bar   True  3/1/2017      NaN   BPS\n",
      "4  4.0  2.50    3.5    bar  False       NaN  £230.22   BMC\n",
      "5  6.0  2.36    3.3   club   True  2/1/2017  £650.96   CJS\n",
      "6  2.0  2.50    3.3  house   True  4/1/2017      NaN    FM\n",
      "\n"
     ]
    }
   ],
   "source": [
    "df_input_file[\"five\"] = df_input_file[\"five\"].fillna(True)\n",
    "print(\"REPLACE NAN VALUES WITH THE TRUE BOOLEAN IN COLUMN FIVE:\")\n",
    "print(df_input_file)       \n",
    "print()      "
   ]
  },
  {
   "cell_type": "code",
   "execution_count": 33,
   "metadata": {
    "collapsed": false
   },
   "outputs": [
    {
     "name": "stdout",
     "output_type": "stream",
     "text": [
      "REPLACE NAN VALUES WITH THE CURRENT DATE IN COLUMN SIX:\n",
      "   one   two  three   four   five        six    seven eight\n",
      "0  4.0  2.10    3.1    bar   True 2017-12-02  £200.45   BMC\n",
      "1  4.0  2.36    3.2    NaN  False 2017-01-01  £650.38   ACS\n",
      "2  3.0  2.30    3.3   club   True 2017-02-01   £85.07   ACS\n",
      "3  5.0  2.40    3.3    bar   True 2017-03-01      NaN   BPS\n",
      "4  4.0  2.50    3.5    bar  False 2017-12-02  £230.22   BMC\n",
      "5  6.0  2.36    3.3   club   True 2017-02-01  £650.96   CJS\n",
      "6  2.0  2.50    3.3  house   True 2017-04-01      NaN    FM\n",
      "\n"
     ]
    }
   ],
   "source": [
    "now = datetime.datetime.now().strftime(\"%m/%d/%Y\")\n",
    "df_input_file[\"six\"] = df_input_file[\"six\"].fillna(str(now))\n",
    "df_input_file[\"six\"] = pd.to_datetime(df_input_file[\"six\"])    \n",
    "print(\"REPLACE NAN VALUES WITH THE CURRENT DATE IN COLUMN SIX:\")\n",
    "print(df_input_file)       \n",
    "print()  "
   ]
  },
  {
   "cell_type": "code",
   "execution_count": 34,
   "metadata": {
    "collapsed": false
   },
   "outputs": [
    {
     "name": "stdout",
     "output_type": "stream",
     "text": [
      "REPLACE NAN VALUES WITH THE  £0.0 IN COLUMN SEVEN:\n",
      "   one   two  three   four   five        six    seven eight\n",
      "0  4.0  2.10    3.1    bar   True 2017-12-02  £200.45   BMC\n",
      "1  4.0  2.36    3.2    NaN  False 2017-01-01  £650.38   ACS\n",
      "2  3.0  2.30    3.3   club   True 2017-02-01   £85.07   ACS\n",
      "3  5.0  2.40    3.3    bar   True 2017-03-01     £0.0   BPS\n",
      "4  4.0  2.50    3.5    bar  False 2017-12-02  £230.22   BMC\n",
      "5  6.0  2.36    3.3   club   True 2017-02-01  £650.96   CJS\n",
      "6  2.0  2.50    3.3  house   True 2017-04-01     £0.0    FM\n",
      "\n"
     ]
    }
   ],
   "source": [
    "df_input_file[\"seven\"] = df_input_file[\"seven\"].fillna(\"£0.0\")\n",
    "print(\"REPLACE NAN VALUES WITH THE  £0.0 IN COLUMN SEVEN:\")\n",
    "print(df_input_file)       \n",
    "print()  "
   ]
  },
  {
   "cell_type": "code",
   "execution_count": 35,
   "metadata": {
    "collapsed": false
   },
   "outputs": [
    {
     "name": "stdout",
     "output_type": "stream",
     "text": [
      "REMOVE THE FIRST CHARACTER (ENGLAND POUND SYMBOL) IN COLUMN SEVEN:\n",
      "   one   two  three   four   five        six   seven eight\n",
      "0  4.0  2.10    3.1    bar   True 2017-12-02  200.45   BMC\n",
      "1  4.0  2.36    3.2    NaN  False 2017-01-01  650.38   ACS\n",
      "2  3.0  2.30    3.3   club   True 2017-02-01   85.07   ACS\n",
      "3  5.0  2.40    3.3    bar   True 2017-03-01     0.0   BPS\n",
      "4  4.0  2.50    3.5    bar  False 2017-12-02  230.22   BMC\n",
      "5  6.0  2.36    3.3   club   True 2017-02-01  650.96   CJS\n",
      "6  2.0  2.50    3.3  house   True 2017-04-01     0.0    FM\n",
      "\n"
     ]
    }
   ],
   "source": [
    "df_input_file[\"seven\"] = df_input_file[\"seven\"].map(lambda x: str(x)[1:])\n",
    "print(\"REMOVE THE FIRST CHARACTER (ENGLAND POUND SYMBOL) IN COLUMN SEVEN:\")\n",
    "print(df_input_file)       \n",
    "print()   "
   ]
  },
  {
   "cell_type": "code",
   "execution_count": 36,
   "metadata": {
    "collapsed": false
   },
   "outputs": [
    {
     "name": "stdout",
     "output_type": "stream",
     "text": [
      "SUBSTITUTE THE ABBREVIATION IN COLUMN EIGHT:\n",
      "   one   two  three   four   five        six   seven  \\\n",
      "0  4.0  2.10    3.1    bar   True 2017-12-02  200.45   \n",
      "1  4.0  2.36    3.2    NaN  False 2017-01-01  650.38   \n",
      "2  3.0  2.30    3.3   club   True 2017-02-01   85.07   \n",
      "3  5.0  2.40    3.3    bar   True 2017-03-01     0.0   \n",
      "4  4.0  2.50    3.5    bar  False 2017-12-02  230.22   \n",
      "5  6.0  2.36    3.3   club   True 2017-02-01  650.96   \n",
      "6  2.0  2.50    3.3  house   True 2017-04-01     0.0   \n",
      "\n",
      "                       eight  \n",
      "0             BioMed Central  \n",
      "1  Amercian Chemical Society  \n",
      "2  Amercian Chemical Society  \n",
      "3        Biophysical Society  \n",
      "4             BioMed Central  \n",
      "5    Cadmus Journal Services  \n",
      "6            Frontiers Media  \n",
      "\n"
     ]
    }
   ],
   "source": [
    "df_input_file[\"eight\"].replace(to_replace=dict(BMC=\"BioMed Central\", ACS=\"Amercian Chemical Society\", BPS=\"Biophysical Society\", CJS=\"Cadmus Journal Services\", FM=\"Frontiers Media\"), inplace=True)\n",
    "print(\"SUBSTITUTE THE ABBREVIATION IN COLUMN EIGHT:\")\n",
    "print(df_input_file)       \n",
    "print()    "
   ]
  },
  {
   "cell_type": "code",
   "execution_count": 45,
   "metadata": {
    "collapsed": false
   },
   "outputs": [
    {
     "name": "stdout",
     "output_type": "stream",
     "text": [
      "X: LABELS (DataFrame)\n",
      "   one   two  three   four   five        six   seven\n",
      "0  4.0  2.10    3.1    bar   True 2017-12-02  200.45\n",
      "1  4.0  2.36    3.2    NaN  False 2017-01-01  650.38\n",
      "2  3.0  2.30    3.3   club   True 2017-02-01   85.07\n",
      "3  5.0  2.40    3.3    bar   True 2017-03-01     0.0\n",
      "4  4.0  2.50    3.5    bar  False 2017-12-02  230.22\n",
      "5  6.0  2.36    3.3   club   True 2017-02-01  650.96\n",
      "6  2.0  2.50    3.3  house   True 2017-04-01     0.0\n",
      "\n"
     ]
    }
   ],
   "source": [
    "x = df_input_file.drop(labels=\"eight\", axis=1)\n",
    "print(\"X: LABELS (DataFrame)\")\n",
    "print(x)\n",
    "print()    "
   ]
  },
  {
   "cell_type": "code",
   "execution_count": 46,
   "metadata": {
    "collapsed": false
   },
   "outputs": [
    {
     "name": "stdout",
     "output_type": "stream",
     "text": [
      "THE OUTPUT FILE HAD BEEN CREATED SUCCESSFULLY:\n",
      "output_data.csv\n",
      "\n"
     ]
    }
   ],
   "source": [
    "df_input_file.to_csv(r\"C:\\Users\\Ernest\\git\\test-code\\test-code\\src\\utica_college_ipython\\output_data.csv\", encoding=\"latin1\")   \n",
    "print(\"THE OUTPUT FILE HAD BEEN CREATED SUCCESSFULLY:\")\n",
    "print(\"output_data.csv\")\n",
    "print()   "
   ]
  },
  {
   "cell_type": "code",
   "execution_count": null,
   "metadata": {
    "collapsed": true
   },
   "outputs": [],
   "source": []
  }
 ],
 "metadata": {
  "anaconda-cloud": {},
  "kernelspec": {
   "display_name": "Python [conda root]",
   "language": "python",
   "name": "conda-root-py"
  },
  "language_info": {
   "codemirror_mode": {
    "name": "ipython",
    "version": 3
   },
   "file_extension": ".py",
   "mimetype": "text/x-python",
   "name": "python",
   "nbconvert_exporter": "python",
   "pygments_lexer": "ipython3",
   "version": "3.5.2"
  }
 },
 "nbformat": 4,
 "nbformat_minor": 2
}
