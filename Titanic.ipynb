{
 "cells": [
  {
   "cell_type": "markdown",
   "metadata": {},
   "source": [
    "<h1 style='color:purple;'>TITLE: SURVIVING TITANIC - RDEWOLF - 11.28.16</h1>\n",
    "<h3>EXECUTIVE SUMMARY</h3>\n",
    "<p>The central question being addressed in this report is whether age, class and gender had an impact on survivorship probability for passengers aboard Titanic.<p>\n",
    "<h3>INTRODUCTION</h3>\n",
    "<p>For this analysis we will be using titanic passenger records downloaded from the Udacity site.  Kaggle has some description information for the values in this dataset which are included below. The purpose of this analysis will be to determine what independent variables from the set may be more or less useful to include in a predictive model where the dependent variable is survival.  I have also included directly below the Kaggle titanic file information a dictionary of all variables assigned within the analysis."
   ]
  },
  {
   "cell_type": "markdown",
   "metadata": {},
   "source": [
    "<h2>DATAFILE DESCRIPTION FROM KAGGLE</h2>\n",
    "\n",
    "VARIABLE DESCRIPTIONS:\n",
    "<ul>\n",
    "<li>survival:        Survival   (0 = No; 1 = Yes)</li>\n",
    "<li>pclass:          Passenger Class (1 = 1st; 2 = 2nd; 3 = 3rd) </li>\n",
    "<li>name:            Name</li>\n",
    "<li>sex:             Sex</li>\n",
    "<li>age:             Age</li>\n",
    "<li>sibsp:           Number of Siblings/Spouses Aboard</li>\n",
    "<li>parch:           Number of Parents/Children Aboard</li>\n",
    "<li>ticket:          Ticket Number</li>\n",
    "<li>fare:            Passenger Fare</li>\n",
    "<li>cabin:           Cabin</li>\n",
    "<li>embarked:        Port of Embarkation  (C = Cherbourg; Q = Queenstown; S = Southampton)</li>\n",
    "</ul>\n",
    "\n",
    "SPECIAL NOTES:\n",
    "Pclass is a proxy for socio-economic status (SES)\n",
    " 1st ~ Upper; 2nd ~ Middle; 3rd ~ Lower\n",
    "\n",
    "Age is in Years; Fractional if Age less than One (1)\n",
    " If the Age is Estimated, it is in the form xx.5\n",
    "\n",
    "With respect to the family relation variables (i.e. sibsp and parch)\n",
    "some relations were ignored.  The following are the definitions used\n",
    "for sibsp and parch.\n",
    "\n",
    "Sibling:  Brother, Sister, Stepbrother, or Stepsister of Passenger Aboard Titanic\n",
    "Spouse:   Husband or Wife of Passenger Aboard Titanic (Mistresses and Fiances Ignored)\n",
    "Parent:   Mother or Father of Passenger Aboard Titanic\n",
    "Child:    Son, Daughter, Stepson, or Stepdaughter of Passenger Aboard Titanic\n",
    "\n",
    "Other family relatives excluded from this study include cousins,\n",
    "nephews/nieces, aunts/uncles, and in-laws.  Some children travelled\n",
    "only with a nanny, therefore parch=0 for them.  As well, some\n",
    "travelled with very close friends or neighbors in a village, however,\n",
    "the definitions do not support such relations."
   ]
  },
  {
   "cell_type": "markdown",
   "metadata": {},
   "source": [
    "<h2> ASSIGNED VARIABLES </h2>\n",
    "<ul>\n",
    "<li>Passengers - total number of unique passengers on board</li>\n",
    "<li>Women - total number of female passengers on board</li>\n",
    "<li>Men - total number of male passengers on board</li>\n",
    "<li>TotSurvivor - total number of survivors</li>\n",
    "<li>Survival_Rate_Women - proportion of women who survived vs. all survivors</li>\n",
    "<li>Survival_Rate_Men - proportion of men who survived vs. all survivors</li>\n",
    "<li>Unavailable - total number of passengers with age unavailable</li>\n",
    "<li>SurvivorWomen_AgeAvail = total number of female survivors in the age available subset</li>\n",
    "<li>SurvivorMen_AgeAvail = total number of male survivors in the age available subset</li>\n",
    "<li>Tot_Child - Total number of child passengers in the age available subset</li>\n",
    "<li>Tot_Senior - Total number of passengers 65+ in the age available subset</li>\n",
    "<li>Chld_Surv - Total number of child survivors in the age available subset</li>\n",
    "<li>Snr_Surv - Total number of survivors 65+ in the age available subset</li>\n",
    "<li>Chld_Rate - Child survival rate for the age available subset</li>\n",
    "<li>Snr_Rate - Senior survival rate for the age available subset</li>\n",
    "</ul>\n",
    "\n",
    "<ul><span style = 'font-weight:bold;'>DataFrames</span>\n",
    "<li>GENDER - DataFrame containing total number of survivors by gender </li>\n",
    "<li>AGE_AVAILABLE - DataFrame consisting only of passenger records where age is > 0</li>\n",
    "<li>SURVIVORS - DataFrame containing only survivor records</li>\n",
    "<li>SURVIVOR_AGE_AVAIL - Dataframe consisting of survivor records for the age available subset</li>\n",
    "<li>SURVIVORWOMEN_AGEAVAIL - Dataframe consisting of female survivors in the age available subset</li>\n",
    "<li>SURVIVORMEN_AGEAVAIL - Dataframe consisting of male survivors in the age available subset</li>\n",
    "<li>PASSENGER_CHILD - Dataframe consisting of all child passengers in the age available subset</li>\n",
    "<li>PASSENGER_SENIOR - Dataframe consisting of all passengers age 65+ in the age available subset</li>\n",
    "<li>SURVIVOR_CHILD - Dataframe consisting of all child survivors in the age available subset</li>\n",
    "<li>SURVIVOR_SENIOR - Dataframe consisting of all survivors 65+ in the age available subset</li>\n",
    "</ul>\n",
    "\n",
    "<ul><span style = 'font-weight:bold;'>Series</span>\n",
    "<li>survivors_by_gender - pandas series of total number of survivors by gender</li>\n",
    "<li>survivors_and_deceased - pandas series of total number of survivors and deceased</li>\n",
    "<li>passenger_survivor_counts - pandas series containing passenger and survivor counts</li>\n",
    "</ul>\n"
   ]
  },
  {
   "cell_type": "markdown",
   "metadata": {},
   "source": [
    "<h3>METHODOLOGY</h3>\n",
    "<p>For this analysis I will primarily use the pandas and matplotlib packages.  Since we will be using only the Age, Sex, Survived and Pclass fields for this analysis I will validate the PassengerID is unique and that each row is representative of a single passenger record before dropping all of the extra fields.</p>\n",
    "<p>Within the dropped dataframe and for each of the independent variables we are examining we will review the column for null values and make a determination as to how to manage the nulls to continue the analysis.</p>\n",
    "<p> Once our nulls have been resolved for we will look at each of the independent variables and examine the survival rate for that variable along several slices vs. survival rates overall to make comparisons and draw conclusions about negative or positive effects the variable appears to have on survivability.</p> \n"
   ]
  },
  {
   "cell_type": "code",
   "execution_count": 58,
   "metadata": {
    "collapsed": false
   },
   "outputs": [],
   "source": [
    "#import packages\n",
    "import pandas as pd\n",
    "import numpy as np\n",
    "%matplotlib inline\n",
    "import matplotlib.pyplot as plt\n",
    "import matplotlib\n",
    "matplotlib.style.use('ggplot')\n",
    "import matplotlib.ticker as mtick"
   ]
  },
  {
   "cell_type": "code",
   "execution_count": 76,
   "metadata": {
    "collapsed": false
   },
   "outputs": [
    {
     "name": "stdout",
     "output_type": "stream",
     "text": [
      "<class 'pandas.core.frame.DataFrame'>\n",
      "RangeIndex: 891 entries, 0 to 890\n",
      "Data columns (total 12 columns):\n",
      "PassengerId    891 non-null int64\n",
      "Survived       891 non-null int64\n",
      "Pclass         891 non-null int64\n",
      "Name           891 non-null object\n",
      "Sex            891 non-null object\n",
      "Age            714 non-null float64\n",
      "SibSp          891 non-null int64\n",
      "Parch          891 non-null int64\n",
      "Ticket         891 non-null object\n",
      "Fare           891 non-null float64\n",
      "Cabin          204 non-null object\n",
      "Embarked       889 non-null object\n",
      "dtypes: float64(2), int64(5), object(5)\n",
      "memory usage: 83.6+ KB\n",
      "None\n"
     ]
    },
    {
     "data": {
      "text/html": [
       "<div>\n",
       "<table border=\"1\" class=\"dataframe\">\n",
       "  <thead>\n",
       "    <tr style=\"text-align: right;\">\n",
       "      <th></th>\n",
       "      <th>PassengerId</th>\n",
       "      <th>Survived</th>\n",
       "      <th>Pclass</th>\n",
       "      <th>Name</th>\n",
       "      <th>Sex</th>\n",
       "      <th>Age</th>\n",
       "      <th>SibSp</th>\n",
       "      <th>Parch</th>\n",
       "      <th>Ticket</th>\n",
       "      <th>Fare</th>\n",
       "      <th>Cabin</th>\n",
       "      <th>Embarked</th>\n",
       "    </tr>\n",
       "  </thead>\n",
       "  <tbody>\n",
       "    <tr>\n",
       "      <th>0</th>\n",
       "      <td>1</td>\n",
       "      <td>0</td>\n",
       "      <td>3</td>\n",
       "      <td>Braund, Mr. Owen Harris</td>\n",
       "      <td>male</td>\n",
       "      <td>22.0</td>\n",
       "      <td>1</td>\n",
       "      <td>0</td>\n",
       "      <td>A/5 21171</td>\n",
       "      <td>7.2500</td>\n",
       "      <td>NaN</td>\n",
       "      <td>S</td>\n",
       "    </tr>\n",
       "    <tr>\n",
       "      <th>1</th>\n",
       "      <td>2</td>\n",
       "      <td>1</td>\n",
       "      <td>1</td>\n",
       "      <td>Cumings, Mrs. John Bradley (Florence Briggs Th...</td>\n",
       "      <td>female</td>\n",
       "      <td>38.0</td>\n",
       "      <td>1</td>\n",
       "      <td>0</td>\n",
       "      <td>PC 17599</td>\n",
       "      <td>71.2833</td>\n",
       "      <td>C85</td>\n",
       "      <td>C</td>\n",
       "    </tr>\n",
       "    <tr>\n",
       "      <th>2</th>\n",
       "      <td>3</td>\n",
       "      <td>1</td>\n",
       "      <td>3</td>\n",
       "      <td>Heikkinen, Miss. Laina</td>\n",
       "      <td>female</td>\n",
       "      <td>26.0</td>\n",
       "      <td>0</td>\n",
       "      <td>0</td>\n",
       "      <td>STON/O2. 3101282</td>\n",
       "      <td>7.9250</td>\n",
       "      <td>NaN</td>\n",
       "      <td>S</td>\n",
       "    </tr>\n",
       "    <tr>\n",
       "      <th>3</th>\n",
       "      <td>4</td>\n",
       "      <td>1</td>\n",
       "      <td>1</td>\n",
       "      <td>Futrelle, Mrs. Jacques Heath (Lily May Peel)</td>\n",
       "      <td>female</td>\n",
       "      <td>35.0</td>\n",
       "      <td>1</td>\n",
       "      <td>0</td>\n",
       "      <td>113803</td>\n",
       "      <td>53.1000</td>\n",
       "      <td>C123</td>\n",
       "      <td>S</td>\n",
       "    </tr>\n",
       "    <tr>\n",
       "      <th>4</th>\n",
       "      <td>5</td>\n",
       "      <td>0</td>\n",
       "      <td>3</td>\n",
       "      <td>Allen, Mr. William Henry</td>\n",
       "      <td>male</td>\n",
       "      <td>35.0</td>\n",
       "      <td>0</td>\n",
       "      <td>0</td>\n",
       "      <td>373450</td>\n",
       "      <td>8.0500</td>\n",
       "      <td>NaN</td>\n",
       "      <td>S</td>\n",
       "    </tr>\n",
       "  </tbody>\n",
       "</table>\n",
       "</div>"
      ],
      "text/plain": [
       "   PassengerId  Survived  Pclass  \\\n",
       "0            1         0       3   \n",
       "1            2         1       1   \n",
       "2            3         1       3   \n",
       "3            4         1       1   \n",
       "4            5         0       3   \n",
       "\n",
       "                                                Name     Sex   Age  SibSp  \\\n",
       "0                            Braund, Mr. Owen Harris    male  22.0      1   \n",
       "1  Cumings, Mrs. John Bradley (Florence Briggs Th...  female  38.0      1   \n",
       "2                             Heikkinen, Miss. Laina  female  26.0      0   \n",
       "3       Futrelle, Mrs. Jacques Heath (Lily May Peel)  female  35.0      1   \n",
       "4                           Allen, Mr. William Henry    male  35.0      0   \n",
       "\n",
       "   Parch            Ticket     Fare Cabin Embarked  \n",
       "0      0         A/5 21171   7.2500   NaN        S  \n",
       "1      0          PC 17599  71.2833   C85        C  \n",
       "2      0  STON/O2. 3101282   7.9250   NaN        S  \n",
       "3      0            113803  53.1000  C123        S  \n",
       "4      0            373450   8.0500   NaN        S  "
      ]
     },
     "execution_count": 76,
     "metadata": {},
     "output_type": "execute_result"
    }
   ],
   "source": [
    "#upload titanic data & get basic info\n",
    "titanic = pd.read_csv('../titanic_data.csv')\n",
    "print titanic.info()\n",
    "titanic.head()"
   ]
  },
  {
   "cell_type": "code",
   "execution_count": 11,
   "metadata": {
    "collapsed": false
   },
   "outputs": [
    {
     "data": {
      "text/plain": [
       "True"
      ]
     },
     "execution_count": 11,
     "metadata": {},
     "output_type": "execute_result"
    }
   ],
   "source": [
    "#validate that passenger ID is unique\n",
    "len(titanic) == len(titanic['PassengerId'].unique())"
   ]
  },
  {
   "cell_type": "code",
   "execution_count": 12,
   "metadata": {
    "collapsed": false
   },
   "outputs": [],
   "source": [
    "#drop columns unnecessary for analysis\n",
    "def titanic_drop(column):\n",
    "    titanic.drop(column, axis=1, inplace=True)\n",
    "    \n",
    "titanic_drop('SibSp')\n",
    "titanic_drop('Parch')\n",
    "titanic_drop('Ticket')\n",
    "titanic_drop('Fare')\n",
    "titanic_drop('Cabin')\n",
    "titanic_drop('Embarked')\n",
    "titanic_drop('Name')"
   ]
  },
  {
   "cell_type": "code",
   "execution_count": 13,
   "metadata": {
    "collapsed": false
   },
   "outputs": [
    {
     "data": {
      "text/html": [
       "<div>\n",
       "<table border=\"1\" class=\"dataframe\">\n",
       "  <thead>\n",
       "    <tr style=\"text-align: right;\">\n",
       "      <th></th>\n",
       "      <th>PassengerId</th>\n",
       "      <th>Survived</th>\n",
       "      <th>Pclass</th>\n",
       "      <th>Sex</th>\n",
       "      <th>Age</th>\n",
       "    </tr>\n",
       "  </thead>\n",
       "  <tbody>\n",
       "    <tr>\n",
       "      <th>0</th>\n",
       "      <td>1</td>\n",
       "      <td>0</td>\n",
       "      <td>3</td>\n",
       "      <td>male</td>\n",
       "      <td>22.0</td>\n",
       "    </tr>\n",
       "    <tr>\n",
       "      <th>1</th>\n",
       "      <td>2</td>\n",
       "      <td>1</td>\n",
       "      <td>1</td>\n",
       "      <td>female</td>\n",
       "      <td>38.0</td>\n",
       "    </tr>\n",
       "    <tr>\n",
       "      <th>2</th>\n",
       "      <td>3</td>\n",
       "      <td>1</td>\n",
       "      <td>3</td>\n",
       "      <td>female</td>\n",
       "      <td>26.0</td>\n",
       "    </tr>\n",
       "    <tr>\n",
       "      <th>3</th>\n",
       "      <td>4</td>\n",
       "      <td>1</td>\n",
       "      <td>1</td>\n",
       "      <td>female</td>\n",
       "      <td>35.0</td>\n",
       "    </tr>\n",
       "    <tr>\n",
       "      <th>4</th>\n",
       "      <td>5</td>\n",
       "      <td>0</td>\n",
       "      <td>3</td>\n",
       "      <td>male</td>\n",
       "      <td>35.0</td>\n",
       "    </tr>\n",
       "  </tbody>\n",
       "</table>\n",
       "</div>"
      ],
      "text/plain": [
       "   PassengerId  Survived  Pclass     Sex   Age\n",
       "0            1         0       3    male  22.0\n",
       "1            2         1       1  female  38.0\n",
       "2            3         1       3  female  26.0\n",
       "3            4         1       1  female  35.0\n",
       "4            5         0       3    male  35.0"
      ]
     },
     "execution_count": 13,
     "metadata": {},
     "output_type": "execute_result"
    }
   ],
   "source": [
    "#view cleaned titanic\n",
    "titanic.head()"
   ]
  },
  {
   "cell_type": "code",
   "execution_count": 14,
   "metadata": {
    "collapsed": false
   },
   "outputs": [
    {
     "data": {
      "text/plain": [
       "891"
      ]
     },
     "execution_count": 14,
     "metadata": {},
     "output_type": "execute_result"
    }
   ],
   "source": [
    "#Calculate total number of passengers\n",
    "Passengers = len(titanic)\n",
    "Passengers"
   ]
  },
  {
   "cell_type": "markdown",
   "metadata": {},
   "source": [
    "<h1 style='font-weight:200;color:blue;'>QUESTION #1:  Did gender impact survival rate?</h1>"
   ]
  },
  {
   "cell_type": "code",
   "execution_count": 15,
   "metadata": {
    "collapsed": false
   },
   "outputs": [
    {
     "name": "stdout",
     "output_type": "stream",
     "text": [
      "314\n",
      "577\n"
     ]
    }
   ],
   "source": [
    "#parse total passengers by gender\n",
    "def passengers_by_gender(gender):\n",
    "    gender_passenger = titanic[titanic['Sex'] == gender]\n",
    "    count_gender_passenger = len(gender_passenger)\n",
    "    return count_gender_passenger\n",
    "    \n",
    "Women = passengers_by_gender('female')\n",
    "Men = passengers_by_gender('male')\n",
    "\n",
    "print Women\n",
    "print Men"
   ]
  },
  {
   "cell_type": "code",
   "execution_count": 16,
   "metadata": {
    "collapsed": false
   },
   "outputs": [
    {
     "name": "stdout",
     "output_type": "stream",
     "text": [
      "0.35241301908\n",
      "0.64758698092\n"
     ]
    }
   ],
   "source": [
    "#calculate distribution of passengers on board by gender\n",
    "print float(Women) / float(Passengers)\n",
    "print float(Men) / float(Passengers)"
   ]
  },
  {
   "cell_type": "markdown",
   "metadata": {},
   "source": [
    "<h2 style='color:purple;'>35.2% of passengers on board were female and 64.8% were male</h2>"
   ]
  },
  {
   "cell_type": "code",
   "execution_count": 17,
   "metadata": {
    "collapsed": false
   },
   "outputs": [
    {
     "name": "stdout",
     "output_type": "stream",
     "text": [
      "342\n"
     ]
    }
   ],
   "source": [
    "#Calculate total number of survivors\n",
    "SURVIVORS = titanic[titanic['Survived'] == 1]\n",
    "TotSurvivor = len(SURVIVORS)\n",
    "print TotSurvivor"
   ]
  },
  {
   "cell_type": "code",
   "execution_count": 18,
   "metadata": {
    "collapsed": false
   },
   "outputs": [
    {
     "name": "stdout",
     "output_type": "stream",
     "text": [
      "1\n"
     ]
    }
   ],
   "source": [
    "#validate that only surivors are included in the calculation\n",
    "print SURVIVORS.Survived.min()"
   ]
  },
  {
   "cell_type": "code",
   "execution_count": 19,
   "metadata": {
    "collapsed": false
   },
   "outputs": [
    {
     "data": {
      "text/plain": [
       "0.3838383838383838"
      ]
     },
     "execution_count": 19,
     "metadata": {},
     "output_type": "execute_result"
    }
   ],
   "source": [
    "#Calclate overall survival rate\n",
    "float(TotSurvivor) / float(Passengers)"
   ]
  },
  {
   "cell_type": "markdown",
   "metadata": {},
   "source": [
    "<h2 style='color: purple;'> Approximately 38.4% (or 342) of the passengers aboard Titanic survived. </h2> "
   ]
  },
  {
   "cell_type": "code",
   "execution_count": 20,
   "metadata": {
    "collapsed": false
   },
   "outputs": [],
   "source": [
    "#pass the proportion of survivors and deceased to a series to plot\n",
    "survivors_and_deceased = pd.Series([TotSurvivor, float(Passengers)-TotSurvivor], index=['Survivors', 'Deceased'])"
   ]
  },
  {
   "cell_type": "code",
   "execution_count": 63,
   "metadata": {
    "collapsed": false
   },
   "outputs": [
    {
     "data": {
      "text/plain": [
       "<matplotlib.axes._subplots.AxesSubplot at 0xbb46da0>"
      ]
     },
     "execution_count": 63,
     "metadata": {},
     "output_type": "execute_result"
    },
    {
     "data": {
      "image/png": "[encoded data removed]",
      "text/plain": [
       "<matplotlib.figure.Figure at 0xba89390>"
      ]
     },
     "metadata": {},
     "output_type": "display_data"
    }
   ],
   "source": [
    "#plot the proportion of survivors\n",
    "survivors_and_deceased.plot.pie(figsize=(5,5), title = 'Proportion of Survivors vs. Deceased', label = 'All Passengers')"
   ]
  },
  {
   "cell_type": "code",
   "execution_count": 22,
   "metadata": {
    "collapsed": false
   },
   "outputs": [
    {
     "data": {
      "text/plain": [
       "Sex\n",
       "female    233\n",
       "male      109\n",
       "dtype: int64"
      ]
     },
     "execution_count": 22,
     "metadata": {},
     "output_type": "execute_result"
    }
   ],
   "source": [
    "#Group survivors by gender\n",
    "survivors_by_gender = SURVIVORS.groupby('Sex').size()\n",
    "survivors_by_gender"
   ]
  },
  {
   "cell_type": "code",
   "execution_count": 64,
   "metadata": {
    "collapsed": false
   },
   "outputs": [
    {
     "data": {
      "text/plain": [
       "<matplotlib.axes._subplots.AxesSubplot at 0xb820780>"
      ]
     },
     "execution_count": 64,
     "metadata": {},
     "output_type": "execute_result"
    },
    {
     "data": {
      "image/png": "[encoded data removed]",
      "text/plain": [
       "<matplotlib.figure.Figure at 0xb614d68>"
      ]
     },
     "metadata": {},
     "output_type": "display_data"
    }
   ],
   "source": [
    "#plot gender distribution of survivors\n",
    "survivors_by_gender.plot.pie(figsize=(5,5), title='Proportion of survivors by gender', label = 'All Passengers')"
   ]
  },
  {
   "cell_type": "code",
   "execution_count": 24,
   "metadata": {
    "collapsed": false
   },
   "outputs": [],
   "source": [
    "#Set gender as DataFrame\n",
    "GENDER = pd.DataFrame(survivors_by_gender)"
   ]
  },
  {
   "cell_type": "code",
   "execution_count": 25,
   "metadata": {
    "collapsed": false
   },
   "outputs": [
    {
     "data": {
      "text/plain": [
       "0    0.681287\n",
       "dtype: float64"
      ]
     },
     "execution_count": 25,
     "metadata": {},
     "output_type": "execute_result"
    }
   ],
   "source": [
    "#Calculate proportion of survivors that were women\n",
    "Survival_Rate_Women = GENDER.ix[0] / GENDER.sum()\n",
    "Survival_Rate_Women"
   ]
  },
  {
   "cell_type": "markdown",
   "metadata": {},
   "source": [
    "<h2 style='color:purple;'> Approximately 68.1% (or 233) of the survivors were female. </h2>\n",
    "<p>Given that only 35.2% of the passengers on board were female they appear to have survived disproportionately.</p>"
   ]
  },
  {
   "cell_type": "code",
   "execution_count": 26,
   "metadata": {
    "collapsed": false
   },
   "outputs": [
    {
     "data": {
      "text/plain": [
       "0    0.318713\n",
       "dtype: float64"
      ]
     },
     "execution_count": 26,
     "metadata": {},
     "output_type": "execute_result"
    }
   ],
   "source": [
    "Survival_Rate_Men = GENDER.ix[1] / GENDER.sum()\n",
    "Survival_Rate_Men"
   ]
  },
  {
   "cell_type": "code",
   "execution_count": 27,
   "metadata": {
    "collapsed": false
   },
   "outputs": [
    {
     "data": {
      "text/plain": [
       "0    0.742038\n",
       "Name: female, dtype: float64"
      ]
     },
     "execution_count": 27,
     "metadata": {},
     "output_type": "execute_result"
    }
   ],
   "source": [
    "#Calculate rate of female survival\n",
    "GENDER.ix[0]/Women"
   ]
  },
  {
   "cell_type": "code",
   "execution_count": 28,
   "metadata": {
    "collapsed": false
   },
   "outputs": [
    {
     "data": {
      "text/plain": [
       "0    0.188908\n",
       "Name: male, dtype: float64"
      ]
     },
     "execution_count": 28,
     "metadata": {},
     "output_type": "execute_result"
    }
   ],
   "source": [
    "#Calculate rate of male survival\n",
    "GENDER.ix[1]/Men"
   ]
  },
  {
   "cell_type": "markdown",
   "metadata": {},
   "source": [
    "<h2 style='color:purple;'>74.2% of female passengers and 18.9% of male passengers survived. </h2>\n",
    "<p>Further evidence that women survived diaproportionately</p>"
   ]
  },
  {
   "cell_type": "code",
   "execution_count": 29,
   "metadata": {
    "collapsed": false
   },
   "outputs": [
    {
     "data": {
      "text/plain": [
       "Male Passengers      577\n",
       "Male Survivors       109\n",
       "Female Passengers    314\n",
       "Female Survivors     233\n",
       "dtype: int64"
      ]
     },
     "execution_count": 29,
     "metadata": {},
     "output_type": "execute_result"
    }
   ],
   "source": [
    "#Add passenger and survival counts to a series to plot\n",
    "passenger_survivor_counts = pd.Series([int(Men), int(GENDER.ix[1]), int(Women), int(GENDER.ix[0])], index=['Male Passengers', 'Male Survivors', 'Female Passengers', 'Female Survivors'])\n",
    "passenger_survivor_counts"
   ]
  },
  {
   "cell_type": "code",
   "execution_count": 66,
   "metadata": {
    "collapsed": false
   },
   "outputs": [
    {
     "data": {
      "text/plain": [
       "<matplotlib.axes._subplots.AxesSubplot at 0xbfab978>"
      ]
     },
     "execution_count": 66,
     "metadata": {},
     "output_type": "execute_result"
    },
    {
     "data": {
      "image/png": "[encoded data removed]",
      "text/plain": [
       "<matplotlib.figure.Figure at 0xbeb7278>"
      ]
     },
     "metadata": {},
     "output_type": "display_data"
    }
   ],
   "source": [
    "#plot the passenger and surival rates by gender\n",
    "passenger_survivor_counts.plot.bar(title='Passengers vs. Survivors by Gender')"
   ]
  },
  {
   "cell_type": "markdown",
   "metadata": {},
   "source": [
    "<h2 style='color:purple;'>Further evidence that women had a higher probability of survival.</h2>\n",
    "<p> But gender alone cant be used to accurately predict (gender only model is only 78.6% accurate)</p>"
   ]
  },
  {
   "cell_type": "markdown",
   "metadata": {},
   "source": [
    "<h1 style='font-weight:200;color:blue;'>QUESTION #2:  Did age impact survival rate?</h1>"
   ]
  },
  {
   "cell_type": "code",
   "execution_count": 31,
   "metadata": {
    "collapsed": false
   },
   "outputs": [
    {
     "name": "stderr",
     "output_type": "stream",
     "text": [
      "C:\\Users\\ReneeD\\Anaconda2\\lib\\site-packages\\numpy\\lib\\function_base.py:3834: RuntimeWarning: Invalid value encountered in percentile\n",
      "  RuntimeWarning)\n"
     ]
    },
    {
     "data": {
      "text/plain": [
       "count    714.000000\n",
       "mean      29.699118\n",
       "std       14.526497\n",
       "min        0.420000\n",
       "25%             NaN\n",
       "50%             NaN\n",
       "75%             NaN\n",
       "max       80.000000\n",
       "Name: Age, dtype: float64"
      ]
     },
     "execution_count": 31,
     "metadata": {},
     "output_type": "execute_result"
    }
   ],
   "source": [
    "#run stats for passenger age\n",
    "titanic['Age'].describe()"
   ]
  },
  {
   "cell_type": "code",
   "execution_count": 32,
   "metadata": {
    "collapsed": false
   },
   "outputs": [
    {
     "data": {
      "text/plain": [
       "177"
      ]
     },
     "execution_count": 32,
     "metadata": {},
     "output_type": "execute_result"
    }
   ],
   "source": [
    "#Because we got a warning, lets calculate the number of records with age unavailable\n",
    "AGE_AVAILABLE = titanic[titanic['Age'] >0]\n",
    "Unavailable = Passengers - len(AGE_AVAILABLE)\n",
    "Unavailable"
   ]
  },
  {
   "cell_type": "code",
   "execution_count": 33,
   "metadata": {
    "collapsed": false
   },
   "outputs": [
    {
     "name": "stdout",
     "output_type": "stream",
     "text": [
      "0.801346801347\n",
      "714\n"
     ]
    }
   ],
   "source": [
    "#calculate age unavailable rate\n",
    "print float(len(AGE_AVAILABLE)) / float(Passengers)\n",
    "print Passengers - Unavailable"
   ]
  },
  {
   "cell_type": "markdown",
   "metadata": {},
   "source": [
    "<h2 style='color:purple;'> 20% of passengers do not have any age information available in the data</h2>\n",
    "<p>The next several age related analyses will focus on 714 person subset for whom an age is available</p>"
   ]
  },
  {
   "cell_type": "markdown",
   "metadata": {},
   "source": [
    "<h2 style='color:purple;'> The average passenger age was 29.7 with a median of 28</h2>"
   ]
  },
  {
   "cell_type": "code",
   "execution_count": 69,
   "metadata": {
    "collapsed": false
   },
   "outputs": [
    {
     "data": {
      "text/plain": [
       "<matplotlib.axes._subplots.AxesSubplot at 0xc77ce80>"
      ]
     },
     "execution_count": 69,
     "metadata": {},
     "output_type": "execute_result"
    },
    {
     "data": {
      "image/png": "[encoded data removed]",
      "text/plain": [
       "<matplotlib.figure.Figure at 0xc7ce0f0>"
      ]
     },
     "metadata": {},
     "output_type": "display_data"
    }
   ],
   "source": [
    "#plot the distribution of ages of passengers\n",
    "AGE_AVAILABLE['Age'].plot.hist(title='Number of Passengers by Age')"
   ]
  },
  {
   "cell_type": "markdown",
   "metadata": {},
   "source": [
    "<h2 style='color:purple;'> 75% of passengers on board were age 38 or younger</h2>"
   ]
  },
  {
   "cell_type": "code",
   "execution_count": 70,
   "metadata": {
    "collapsed": false
   },
   "outputs": [
    {
     "data": {
      "text/plain": [
       "<matplotlib.axes._subplots.AxesSubplot at 0xca8a390>"
      ]
     },
     "execution_count": 70,
     "metadata": {},
     "output_type": "execute_result"
    },
    {
     "data": {
      "image/png": "[encoded data removed]",
      "text/plain": [
       "<matplotlib.figure.Figure at 0xca94ac8>"
      ]
     },
     "metadata": {},
     "output_type": "display_data"
    }
   ],
   "source": [
    "#plot the distibution of ages of passengers.\n",
    "AGE_AVAILABLE['Age'].plot.box(title='Statistical Distribution of Passenger Ages')"
   ]
  },
  {
   "cell_type": "code",
   "execution_count": 36,
   "metadata": {
    "collapsed": false
   },
   "outputs": [
    {
     "data": {
      "text/plain": [
       "count    290.000000\n",
       "mean      28.343690\n",
       "std       14.950952\n",
       "min        0.420000\n",
       "25%       19.000000\n",
       "50%       28.000000\n",
       "75%       36.000000\n",
       "max       80.000000\n",
       "Name: Age, dtype: float64"
      ]
     },
     "execution_count": 36,
     "metadata": {},
     "output_type": "execute_result"
    }
   ],
   "source": [
    "#run stats on survivors where age was available\n",
    "SURVIVOR_AGE_AVAIL= AGE_AVAILABLE[(AGE_AVAILABLE['Survived'] == 1)]\n",
    "SURVIVOR_AGE_AVAIL['Age'].describe()"
   ]
  },
  {
   "cell_type": "markdown",
   "metadata": {},
   "source": [
    "<h2 style='color:purple;'> The average survivor age was 28.3 with a median of 28</h2>\n",
    "<p> This is not substantially different from the overall passenger demographic</p>"
   ]
  },
  {
   "cell_type": "markdown",
   "metadata": {},
   "source": [
    "<h3> Does age relate to survival rate disproportionately for men or women?</h3>"
   ]
  },
  {
   "cell_type": "code",
   "execution_count": 37,
   "metadata": {
    "collapsed": false
   },
   "outputs": [
    {
     "name": "stdout",
     "output_type": "stream",
     "text": [
      "197\n",
      "93\n"
     ]
    }
   ],
   "source": [
    "#count survival by gender for age available subset\n",
    "def surv_by_gender(gender):\n",
    "   survivor_gender = AGE_AVAILABLE[(AGE_AVAILABLE['Survived'] == 1) & (AGE_AVAILABLE['Sex'] == gender)]\n",
    "   return len(survivor_gender)\n",
    "\n",
    "SurvivorWomen_AgeAvail = surv_by_gender('female')\n",
    "SurvivorMen_AgeAvail = surv_by_gender('male')\n",
    "\n",
    "print SurvivorWomen_AgeAvail\n",
    "print SurvivorMen_AgeAvail"
   ]
  },
  {
   "cell_type": "code",
   "execution_count": 38,
   "metadata": {
    "collapsed": false
   },
   "outputs": [
    {
     "name": "stdout",
     "output_type": "stream",
     "text": [
      "Surivivor Women For Age Available Subset\n",
      "count    197.000000\n",
      "mean      28.847716\n",
      "std       14.175073\n",
      "min        0.750000\n",
      "25%       19.000000\n",
      "50%       28.000000\n",
      "75%       38.000000\n",
      "max       63.000000\n",
      "Name: Age, dtype: float64\n",
      "\n",
      "Survivor Men For Age Available Subset\n",
      "count    93.000000\n",
      "mean     27.276022\n",
      "std      16.504803\n",
      "min       0.420000\n",
      "25%      18.000000\n",
      "50%      28.000000\n",
      "75%      36.000000\n",
      "max      80.000000\n",
      "Name: Age, dtype: float64\n"
     ]
    }
   ],
   "source": [
    "#create dataframe of survival by gender for age available subset to run stats\n",
    "def surv_by_gender(gender):\n",
    "   survivor_gender = AGE_AVAILABLE[(AGE_AVAILABLE['Survived'] == 1) & (AGE_AVAILABLE['Sex'] == gender)]\n",
    "   return survivor_gender['Age'].describe()\n",
    "\n",
    "SURVIVOR_WOMEN_AGE_AVAIL = surv_by_gender('female')\n",
    "SURVIVOR_MEN_AGE_AVAIL = surv_by_gender('male')\n",
    "\n",
    "print 'Surivivor Women For Age Available Subset'\n",
    "print SURVIVOR_WOMEN_AGE_AVAIL\n",
    "print\n",
    "print 'Survivor Men For Age Available Subset'\n",
    "print SURVIVOR_MEN_AGE_AVAIL"
   ]
  },
  {
   "cell_type": "markdown",
   "metadata": {},
   "source": [
    "<h2 style='color:purple;'> The men who survived were only slightly younger on average (27.3) than the women.</h2>\n",
    "<p> The female survivor average ages line right up with the total survivor demographics (which follows as they make up the majority of survivors.)  Men were 27.3 and 36 for the mean and median respectively.</p>"
   ]
  },
  {
   "cell_type": "markdown",
   "metadata": {
    "collapsed": true
   },
   "source": [
    "<h2>Did children and the elderly have better or worse rates of survival?</h2>"
   ]
  },
  {
   "cell_type": "code",
   "execution_count": 39,
   "metadata": {
    "collapsed": false
   },
   "outputs": [],
   "source": [
    "#parse child and elderly passengers in age available subset\n",
    "PASSENGER_CHILD= AGE_AVAILABLE[(AGE_AVAILABLE['Age'] <= 18 )]\n",
    "PASSENGER_SENIOR= AGE_AVAILABLE[(AGE_AVAILABLE['Age'] >= 65 )]\n",
    "Tot_Child = len(PASSENGER_CHILD)\n",
    "Tot_Senior = len(PASSENGER_SENIOR)"
   ]
  },
  {
   "cell_type": "code",
   "execution_count": 40,
   "metadata": {
    "collapsed": false
   },
   "outputs": [],
   "source": [
    "#parse child and elederly survivors in age available subset\n",
    "SURVIVOR_CHILD= AGE_AVAILABLE[(AGE_AVAILABLE['Survived'] == 1) & (AGE_AVAILABLE['Age'] <= 18 )]\n",
    "SURVIVOR_SENIOR= AGE_AVAILABLE[(AGE_AVAILABLE['Survived'] == 1) & (AGE_AVAILABLE['Age'] >= 65 )]\n",
    "Chld_Surv = len(SURVIVOR_CHILD)\n",
    "Snr_Surv = len(SURVIVOR_SENIOR)"
   ]
  },
  {
   "cell_type": "code",
   "execution_count": 41,
   "metadata": {
    "collapsed": false
   },
   "outputs": [
    {
     "data": {
      "text/plain": [
       "0.5035971223021583"
      ]
     },
     "execution_count": 41,
     "metadata": {},
     "output_type": "execute_result"
    }
   ],
   "source": [
    "#calculate child survival rate in age available subset\n",
    "Chld_Rate = float(Chld_Surv)/float(Tot_Child)\n",
    "Chld_Rate"
   ]
  },
  {
   "cell_type": "markdown",
   "metadata": {},
   "source": [
    "<h2 style='color:purple;'> 50% of passengers aged 18 or younger did not survive.  </h2> <p>This makes the child survival rate disproportionately better than the overall survival rate of 38% for passengers in general. (It is interesting to note that the overall survival rate of women in general exceeds that of children)</p>"
   ]
  },
  {
   "cell_type": "code",
   "execution_count": 42,
   "metadata": {
    "collapsed": false
   },
   "outputs": [
    {
     "data": {
      "text/plain": [
       "0.09090909090909091"
      ]
     },
     "execution_count": 42,
     "metadata": {},
     "output_type": "execute_result"
    }
   ],
   "source": [
    "#calculate elderly surival rate in age available subset\n",
    "Snr_Rate = float(Snr_Surv)/float(Tot_Senior)\n",
    "Snr_Rate"
   ]
  },
  {
   "cell_type": "markdown",
   "metadata": {},
   "source": [
    "<h2 style='color:purple;'> 91% of passengers aged 65 or older did not survive.  </h2> <p>This makes the elderly survival rate disproportionately worse than the overall survival rate of 38% for passengers in general. (It is important to note that the there were a small number of passengers in this age group on board (11) and only 1 survived so this is a relatively small sample</p>"
   ]
  },
  {
   "cell_type": "code",
   "execution_count": 43,
   "metadata": {
    "collapsed": false
   },
   "outputs": [
    {
     "name": "stdout",
     "output_type": "stream",
     "text": [
      "0.603448275862\n",
      "0.396551724138\n",
      "0.671497584541\n",
      "0.328502415459\n"
     ]
    }
   ],
   "source": [
    "#calculate child survivor rates by gender\n",
    "SURVIVOR_CHILD_FEMALE= AGE_AVAILABLE[(AGE_AVAILABLE['Survived'] == 1) & (AGE_AVAILABLE['Age'] <= 18 ) & (AGE_AVAILABLE['Sex'] <= 'female' )]\n",
    "SURVIVOR_CHILD_MALE= AGE_AVAILABLE[(AGE_AVAILABLE['Survived'] == 1) & (AGE_AVAILABLE['Age'] <= 18 ) & (AGE_AVAILABLE['Sex'] <= 'male' )]\n",
    "PASSENGER_CHILD_FEMALE= AGE_AVAILABLE[(AGE_AVAILABLE['Age'] <= 18 ) & (AGE_AVAILABLE['Sex'] <= 'female' )]\n",
    "PASSENGER_CHILD_MALE= AGE_AVAILABLE[(AGE_AVAILABLE['Age'] <= 18 ) & (AGE_AVAILABLE['Sex'] <= 'male' )]\n",
    "Tot_Child_Passenger = float(len(PASSENGER_CHILD_FEMALE)) + float(len(PASSENGER_CHILD_MALE))\n",
    "Tot_Child_Survivor = float(len(SURVIVOR_CHILD_FEMALE)) + float(len(SURVIVOR_CHILD_MALE))\n",
    "\n",
    "print float(len(SURVIVOR_CHILD_MALE)) / Tot_Child_Survivor\n",
    "print float(len(SURVIVOR_CHILD_FEMALE)) / Tot_Child_Survivor\n",
    "print float(len(PASSENGER_CHILD_MALE)) / Tot_Child_Passenger\n",
    "print float(len(PASSENGER_CHILD_FEMALE)) / Tot_Child_Passenger\n"
   ]
  },
  {
   "cell_type": "markdown",
   "metadata": {},
   "source": [
    "<h2 style='color:purple;'> Survival rates, when broken by gender, appear different for children than adults.  </h2> <p>Male children accounted for 67% of the child passengers on board and 60% of surviving children.  So gender did not negatively impact survival rate for males under the age of 18 to the same degree it imapacted males overall.</p>"
   ]
  },
  {
   "cell_type": "markdown",
   "metadata": {},
   "source": [
    "<h1 style='font-weight:200;color:blue;'>QUESTION #3:  Did class impact survival rate?</h1>"
   ]
  },
  {
   "cell_type": "code",
   "execution_count": 44,
   "metadata": {
    "collapsed": false
   },
   "outputs": [],
   "source": [
    "#create a dataframe for each group of passengers by class\n",
    "def pass_class_df(tclass):\n",
    "    PASSENGER_CLASS = titanic[titanic['Pclass'] == tclass]\n",
    "    return PASSENGER_CLASS\n",
    "\n",
    "PASS_CLASS_1 = pass_class_df(1)\n",
    "PASS_CLASS_2 = pass_class_df(2)\n",
    "PASS_CLASS_3 = pass_class_df(3)"
   ]
  },
  {
   "cell_type": "code",
   "execution_count": 45,
   "metadata": {
    "collapsed": false
   },
   "outputs": [
    {
     "data": {
      "text/plain": [
       "Class 1    216\n",
       "Class 2    184\n",
       "Class 3    491\n",
       "dtype: int64"
      ]
     },
     "execution_count": 45,
     "metadata": {},
     "output_type": "execute_result"
    }
   ],
   "source": [
    "#count the passengers in each class and pass the counts to a series for plotting\n",
    "def pass_class_count(class_df):\n",
    "    Pass_Class_Total = len(class_df)\n",
    "    return Pass_Class_Total\n",
    "\n",
    "Pass_Class_1 = pass_class_count(PASS_CLASS_1) \n",
    "Pass_Class_2 = pass_class_count(PASS_CLASS_2)    \n",
    "Pass_Class_3 = pass_class_count(PASS_CLASS_3)  \n",
    "\n",
    "pass_class_series = pd.Series([Pass_Class_1, Pass_Class_2, Pass_Class_3], index = ['Class 1', 'Class 2', 'Class 3'])\n",
    "pass_class_series"
   ]
  },
  {
   "cell_type": "code",
   "execution_count": 71,
   "metadata": {
    "collapsed": false
   },
   "outputs": [
    {
     "data": {
      "text/plain": [
       "<matplotlib.axes._subplots.AxesSubplot at 0xcbee4a8>"
      ]
     },
     "execution_count": 71,
     "metadata": {},
     "output_type": "execute_result"
    },
    {
     "data": {
      "image/png": "[encoded data removed]",
      "text/plain": [
       "<matplotlib.figure.Figure at 0xc520390>"
      ]
     },
     "metadata": {},
     "output_type": "display_data"
    }
   ],
   "source": [
    "pass_class_series.plot.pie(figsize=(5,5), title='Proportion of Passengers by Class', label='All Passengers')"
   ]
  },
  {
   "cell_type": "code",
   "execution_count": 47,
   "metadata": {
    "collapsed": false
   },
   "outputs": [
    {
     "name": "stdout",
     "output_type": "stream",
     "text": [
      "0.242424242424\n",
      "0.206509539843\n",
      "0.551066217733\n"
     ]
    }
   ],
   "source": [
    "Class_1_Dist = float(Pass_Class_1) / sum(pass_class_series)\n",
    "Class_2_Dist = float(Pass_Class_2) / sum(pass_class_series)\n",
    "Class_3_Dist = float(Pass_Class_3) / sum(pass_class_series)\n",
    "\n",
    "print Class_1_Dist\n",
    "print Class_2_Dist\n",
    "print Class_3_Dist"
   ]
  },
  {
   "cell_type": "markdown",
   "metadata": {},
   "source": [
    "<h2 style='color:purple;'>55.1% of the passengers on board were in 3rd class.</h2>"
   ]
  },
  {
   "cell_type": "code",
   "execution_count": 48,
   "metadata": {
    "collapsed": false
   },
   "outputs": [],
   "source": [
    "#create a dataframe for each group of passengers by class and survival\n",
    "def surv_class_df(tclass):\n",
    "    SURVIVOR_CLASS = titanic[(titanic['Pclass'] == tclass) & (titanic['Survived'] == 1)]\n",
    "    return SURVIVOR_CLASS\n",
    "\n",
    "SURV_CLASS_1 = surv_class_df(1)\n",
    "SURV_CLASS_2 = surv_class_df(2)\n",
    "SURV_CLASS_3 = surv_class_df(3)"
   ]
  },
  {
   "cell_type": "code",
   "execution_count": 49,
   "metadata": {
    "collapsed": false
   },
   "outputs": [
    {
     "data": {
      "text/plain": [
       "Class 1    136\n",
       "Class 2     87\n",
       "Class 3    119\n",
       "dtype: int64"
      ]
     },
     "execution_count": 49,
     "metadata": {},
     "output_type": "execute_result"
    }
   ],
   "source": [
    "#count the passengers in each class and pass the counts to a series for plotting\n",
    "def surv_class_count(surv_df):\n",
    "    Surv_Class_Total = len(surv_df)\n",
    "    return Surv_Class_Total\n",
    "\n",
    "Surv_Class_1 = surv_class_count(SURV_CLASS_1) \n",
    "Surv_Class_2 = surv_class_count(SURV_CLASS_2)    \n",
    "Surv_Class_3 = surv_class_count(SURV_CLASS_3)  \n",
    "\n",
    "surv_class_series = pd.Series([Surv_Class_1, Surv_Class_2, Surv_Class_3], index = ['Class 1', 'Class 2', 'Class 3'])\n",
    "surv_class_series"
   ]
  },
  {
   "cell_type": "code",
   "execution_count": 50,
   "metadata": {
    "collapsed": false
   },
   "outputs": [
    {
     "name": "stdout",
     "output_type": "stream",
     "text": [
      "0.397660818713\n",
      "0.254385964912\n",
      "0.347953216374\n"
     ]
    }
   ],
   "source": [
    "#Calculate survival rate for each class as a proportion of total survivors\n",
    "print surv_class_series[0] / float(sum(surv_class_series))\n",
    "print surv_class_series[1] / float(sum(surv_class_series))\n",
    "print surv_class_series[2] / float(sum(surv_class_series))"
   ]
  },
  {
   "cell_type": "markdown",
   "metadata": {},
   "source": [
    "<h3 style = 'color:purple;'><ul><li>Class 1 passengers made up 24.2% of passengers on board and 39.7% of survivors.</li>\n",
    "<li>Class 2 passengers made up 20.7% of passengers on board and 25.4% of survivors.</li>\n",
    "<li>Class 3 passengers made up 55.1% of passengers on board and 34.8% of survivors.</li></h2>"
   ]
  },
  {
   "cell_type": "code",
   "execution_count": 74,
   "metadata": {
    "collapsed": false
   },
   "outputs": [
    {
     "data": {
      "text/plain": [
       "<matplotlib.axes._subplots.AxesSubplot at 0xd192c50>"
      ]
     },
     "execution_count": 74,
     "metadata": {},
     "output_type": "execute_result"
    },
    {
     "data": {
      "image/png": "[encoded data removed]",
      "text/plain": [
       "<matplotlib.figure.Figure at 0xd288908>"
      ]
     },
     "metadata": {},
     "output_type": "display_data"
    }
   ],
   "source": [
    "#Calculate survival rate for each class as a proportion of the class\n",
    "deceased_class = surv_class_series / pass_class_series\n",
    "deceased_class.plot.bar(title='Survival Rate by Class')"
   ]
  },
  {
   "cell_type": "code",
   "execution_count": 52,
   "metadata": {
    "collapsed": false
   },
   "outputs": [
    {
     "data": {
      "text/plain": [
       "count    714.000000\n",
       "mean       0.406162\n",
       "std        0.491460\n",
       "min        0.000000\n",
       "25%        0.000000\n",
       "50%        0.000000\n",
       "75%        1.000000\n",
       "max        1.000000\n",
       "Name: Survived, dtype: float64"
      ]
     },
     "execution_count": 52,
     "metadata": {},
     "output_type": "execute_result"
    }
   ],
   "source": [
    "AGE_AVAILABLE['Survived'].describe()"
   ]
  },
  {
   "cell_type": "code",
   "execution_count": 55,
   "metadata": {
    "collapsed": false
   },
   "outputs": [
    {
     "data": {
      "text/plain": [
       "<matplotlib.axes._subplots.AxesSubplot at 0xb1836a0>"
      ]
     },
     "execution_count": 55,
     "metadata": {},
     "output_type": "execute_result"
    },
    {
     "data": {
      "image/png": "[encoded data removed]",
      "text/plain": [
       "<matplotlib.figure.Figure at 0xb19c1d0>"
      ]
     },
     "metadata": {},
     "output_type": "display_data"
    }
   ],
   "source": [
    "#Examine class, gender and age together for adults\n",
    "def adult_class_gender(pclass, gender):\n",
    "    adultxxsurv = len(SURVIVORS[(SURVIVORS['Sex']  == gender) & (SURVIVORS['Age'] >= 18 ) & (SURVIVORS['Pclass'] == pclass )])\n",
    "    adultxxpass = len(AGE_AVAILABLE[(AGE_AVAILABLE['Sex'] == gender) & (AGE_AVAILABLE['Age'] >= 18)& (AGE_AVAILABLE['Pclass'] == pclass )])\n",
    "    survival_rate = float(adultxxsurv) / float(adultxxpass)\n",
    "    return survival_rate\n",
    "\n",
    "class_1_females = adult_class_gender(1,'female')\n",
    "class_2_females = adult_class_gender(2,'female')\n",
    "class_3_females = adult_class_gender(3,'female')\n",
    "class_1_males = adult_class_gender(1,'male')\n",
    "class_2_males = adult_class_gender(2,'male')\n",
    "class_3_males = adult_class_gender(3,'male')\n",
    "\n",
    "adult_survivors_by_age_gender = pd.Series([class_1_females, class_2_females, class_3_females,class_1_males, class_2_males, class_3_males], index = ['Class 1 Females', 'Class 2 Females', 'Class 3 Females', 'Class 1 Males', 'Class 2 Males', 'Class 3 Males'])\n",
    "adult_survivors_by_age_gender.plot.bar(title='Survival Rate of Adults by Class/Gender')"
   ]
  },
  {
   "cell_type": "code",
   "execution_count": 56,
   "metadata": {
    "collapsed": false
   },
   "outputs": [
    {
     "data": {
      "text/plain": [
       "<matplotlib.axes._subplots.AxesSubplot at 0xb2a69e8>"
      ]
     },
     "execution_count": 56,
     "metadata": {},
     "output_type": "execute_result"
    },
    {
     "data": {
      "image/png": "[encoded data removed]",
      "text/plain": [
       "<matplotlib.figure.Figure at 0xb380a58>"
      ]
     },
     "metadata": {},
     "output_type": "display_data"
    }
   ],
   "source": [
    "#Examine class, gender and age together for children\n",
    "def child_class_gender(pclass, gender):\n",
    "    childxxsurv = len(SURVIVORS[(SURVIVORS['Sex']  == gender) & (SURVIVORS['Age'] < 18 ) & (SURVIVORS['Pclass'] == pclass )])\n",
    "    childxxpass = len(AGE_AVAILABLE[(AGE_AVAILABLE['Sex'] == gender) & (AGE_AVAILABLE['Age'] < 18)& (AGE_AVAILABLE['Pclass'] == pclass )])\n",
    "    survival_rate = float(childxxsurv) / float(childxxpass)\n",
    "    return survival_rate\n",
    "\n",
    "class_1_females = child_class_gender(1,'female')\n",
    "class_2_females = child_class_gender(2,'female')\n",
    "class_3_females = child_class_gender(3,'female')\n",
    "class_1_males = child_class_gender(1,'male')\n",
    "class_2_males = child_class_gender(2,'male')\n",
    "class_3_males = child_class_gender(3,'male')\n",
    "\n",
    "child_survivors_by_age_gender = pd.Series([class_1_females, class_2_females, class_3_females,class_1_males, class_2_males, class_3_males], index = ['Class 1 Females', 'Class 2 Females', 'Class 3 Females', 'Class 1 Males', 'Class 2 Males', 'Class 3 Males'])\n",
    "child_survivors_by_age_gender.plot.bar(title='Survival Rate of Children By Class/Gender')"
   ]
  },
  {
   "cell_type": "markdown",
   "metadata": {},
   "source": [
    "<h3>CONCLUSION</h3>\n",
    "<p>Before concluding it is imperative to discuss the limitations of the data analyzed throughout.  This particular titanic dataset includes the records for 891 passengers.  There are no conclusive agreeing records on the exact number of people on board titanic but several estimates are closer to 1300 passengers and 2200 including crew*.  So at best this dataset is a sample and we assume it to be representative in any statement of findings.  I chose to drop the records without age information for the age based portions of this analysis so again I assume that subset to be representative.  Any discrepancy in the quality of data collection (by class for example) could skew those findings.  The datafile additionally does not include any fields that indicate whether the persons are passengers or crew so we further assume them to be passengers. </p> \n",
    "\n",
    "<p>Limitations aside, Age, Sex and Passenger Class all do appear to have an influence on survivorship rates.  For example, adult women of every passenger class outsurvived men in each class. But 97% of adult women in passenger class 1 survived compared to a 74% survivor rate in suviving women vs. all female passengers so gender did not count for all of the variability.  In addition to class impacts on suvivorship we also see the effect when we take age into account.  Class 1 female children did not have the highest survival rate in alignment with class 1 women for example.  Gender was less relevant overall to rate of survival in children.</p>\n",
    "\n",
    "<p>(Analyst note:  this makes sense when you consider adult women likely took with them their children of both genders</p>\n",
    "\n",
    "<p>In closing, I would suggest that all three of these variables would be useful to examine versus survival in a logistic regression and that would be my next step in this analysis were I to continue.</p>\n",
    "\n",
    "<p>*http://www.titanicfacts.net/titanic-passengers.html</p>"
   ]
  },
  {
   "cell_type": "code",
   "execution_count": null,
   "metadata": {
    "collapsed": true
   },
   "outputs": [],
   "source": []
  }
 ],
 "metadata": {
  "anaconda-cloud": {},
  "kernelspec": {
   "display_name": "Python [Root]",
   "language": "python",
   "name": "Python [Root]"
  },
  "language_info": {
   "codemirror_mode": {
    "name": "ipython",
    "version": 2
   },
   "file_extension": ".py",
   "mimetype": "text/x-python",
   "name": "python",
   "nbconvert_exporter": "python",
   "pygments_lexer": "ipython2",
   "version": "2.7.12"
  }
 },
 "nbformat": 4,
 "nbformat_minor": 0
}
